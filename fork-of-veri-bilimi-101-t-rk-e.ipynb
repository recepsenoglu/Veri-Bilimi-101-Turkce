{
 "cells": [
  {
   "cell_type": "markdown",
   "metadata": {
    "papermill": {
     "duration": 0.005964,
     "end_time": "2023-01-03T10:46:13.538135",
     "exception": false,
     "start_time": "2023-01-03T10:46:13.532171",
     "status": "completed"
    },
    "tags": []
   },
   "source": [
    "**\"Dünyada her şey için, medeniyet için, hayat için, başarı için, en hakiki mürşit bilimdir, fendir.\"\n",
    "-Mustafa Kemal Atatürk**"
   ]
  },
  {
   "cell_type": "markdown",
   "metadata": {
    "papermill": {
     "duration": 0.003956,
     "end_time": "2023-01-03T10:46:13.546620",
     "exception": false,
     "start_time": "2023-01-03T10:46:13.542664",
     "status": "completed"
    },
    "tags": []
   },
   "source": [
    "# Giriş\n",
    "Bu kurs serisinde ilk olarak python temellerini öğrenip daha sonra pandas ile veri bilimine giriş yapacağız. Bu kurs, daha önceden programlama deneyimine sahip insanlar için uygundur ve programlama mantığını en temelden öğretmez. İlk python kursuna başlamak için **[buraya](https://www.kaggle.com/bolsogansiz/python-giri)** tıklayabilirsin."
   ]
  },
  {
   "cell_type": "markdown",
   "metadata": {
    "papermill": {
     "duration": 0.004012,
     "end_time": "2023-01-03T10:46:13.554897",
     "exception": false,
     "start_time": "2023-01-03T10:46:13.550885",
     "status": "completed"
    },
    "tags": []
   },
   "source": [
    "# İçerik\n",
    "**PYTHON**\n",
    "1. **[Python Giriş](https://www.kaggle.com/bolsogansiz/python-giri)**\n",
    "2. **[Fonksiyonlar](https://www.kaggle.com/bolsogansiz/fonksiyonlar-python)**\n",
    "3. **[Koşullu ifadeler](https://www.kaggle.com/bolsogansiz/ko-ullu-ifadeler-python)**\n",
    "4. **[Listeler ve Demetler](https://www.kaggle.com/bolsogansiz/listeler-ve-demetler-python)**\n",
    "5. **[Döngüler](https://www.kaggle.com/bolsogansiz/d-ng-ler-python)**\n",
    "6. **[Sözlükler ve Stringler](https://www.kaggle.com/bolsogansiz/s-zl-kler-ve-stringler-python)**\n"
   ]
  },
  {
   "cell_type": "markdown",
   "metadata": {
    "papermill": {
     "duration": 0.003867,
     "end_time": "2023-01-03T10:46:13.563022",
     "exception": false,
     "start_time": "2023-01-03T10:46:13.559155",
     "status": "completed"
    },
    "tags": []
   },
   "source": [
    "**PANDAS**\n",
    "1. **[Veri okuma ve yazma](https://www.kaggle.com/bolsogansiz/pandas-giri-veri-okuma-ve-yazma-pandas)**\n",
    "2. **[\n",
    "İndeksleme, Seçme & Atama](https://www.kaggle.com/bolsogansiz/ndeksleme-se-me-atama-pandas)**\n",
    "3. **[\n",
    "Özet fonksiyonlar ve Haritalar](https://www.kaggle.com/bolsogansiz/zet-fonksiyonlar-ve-haritalar-pandas)**\n",
    "4. **[\n",
    "Gruplama ve Sıralama](https://www.kaggle.com/bolsogansiz/gruplama-ve-s-ralama-pandas)**\n",
    "5. **[Veri türleri ve Eksik değerler](https://www.kaggle.com/bolsogansiz/veri-t-rleri-ve-eksik-de-erler-pandas)**\n",
    "6. **[Yeniden adlandırma ve Birleştirme](https://www.kaggle.com/bolsogansiz/yeniden-adland-rma-ve-birle-tirme-pandas)**"
   ]
  },
  {
   "cell_type": "markdown",
   "metadata": {
    "papermill": {
     "duration": 0.003983,
     "end_time": "2023-01-03T10:46:13.571809",
     "exception": false,
     "start_time": "2023-01-03T10:46:13.567826",
     "status": "completed"
    },
    "tags": []
   },
   "source": [
    "**Seaborn ile Veri Görselleştirme**\n",
    "1. **[Çizgi grafikler](https://www.kaggle.com/bolsogansiz/izgi-grafikler-seaborn)**\n",
    "2. **[Çubuk grafikler ve Isı haritaları](https://www.kaggle.com/bolsogansiz/ubuk-grafikler-ve-is-haritalar-seaborn)**\n",
    "3. **[Dağılım grafikleri](https://www.kaggle.com/bolsogansiz/da-l-m-grafikleri-seaborn)**\n",
    "4. **[Histogramlar ve Yoğunluk grafikleri](https://www.kaggle.com/bolsogansiz/histogramlar-ve-yo-unluk-grafikleri-seaborn)**\n",
    "5. **[Grafik türü seçme ve Özel stiller](https://www.kaggle.com/bolsogansiz/grafik-t-r-se-me-ve-zel-stiller-seaborn)**"
   ]
  },
  {
   "cell_type": "markdown",
   "metadata": {
    "papermill": {
     "duration": 0.003888,
     "end_time": "2023-01-03T10:46:13.579977",
     "exception": false,
     "start_time": "2023-01-03T10:46:13.576089",
     "status": "completed"
    },
    "tags": []
   },
   "source": [
    "**Makine Öğrenmesine Giriş**\n",
    "1. **[Modeller nasıl çalışır?](https://www.kaggle.com/bolsogansiz/modeller-nas-l-al-r)**\n",
    "2. **[\n",
    "Temel veri keşfi](https://www.kaggle.com/bolsogansiz/temel-veri-ke-fi)**\n",
    "3. **[\n",
    "Makine öğrenimi modeli oluşturma](https://www.kaggle.com/bolsogansiz/makine-renimi-modeli-olu-turma)**\n",
    "4. **[\n",
    "Model doğrulama](https://www.kaggle.com/bolsogansiz/model-do-rulama)**\n",
    "5. **[Underfitting ve Overfitting](https://www.kaggle.com/bolsogansiz/underfitting-ve-overfitting)**\n",
    "6. **[\n",
    "Rastgele ormanlar](https://www.kaggle.com/bolsogansiz/rastgele-ormanlar)**"
   ]
  },
  {
   "cell_type": "markdown",
   "metadata": {
    "papermill": {
     "duration": 0.003861,
     "end_time": "2023-01-03T10:46:13.588097",
     "exception": false,
     "start_time": "2023-01-03T10:46:13.584236",
     "status": "completed"
    },
    "tags": []
   },
   "source": [
    "**Orta düzey Makine Öğrenimi**\n",
    "1. **[\n",
    "Orta düzey makine öğrenimi](https://www.kaggle.com/bolsogansiz/orta-d-zey-makine-renimi)**\n",
    "2. **[\n",
    "Eksik değerler](https://www.kaggle.com/bolsogansiz/eksik-de-erler)**\n",
    "3. **[Kategorik değişkenler](https://www.kaggle.com/bolsogansiz/kategorik-de-i-kenler)**\n",
    "4. **[\n",
    "Boru hatları](https://www.kaggle.com/bolsogansiz/boru-hatlar)**\n",
    "5. **[Çapraz doğrulama](https://www.kaggle.com/bolsogansiz/apraz-do-rulama)**\n",
    "6. **[XGBoost](https://www.kaggle.com/bolsogansiz/xgboost)**\n",
    "7. **[Veri sızıntısı](https://www.kaggle.com/bolsogansiz/veri-s-z-nt-s)**"
   ]
  }
 ],
 "metadata": {
  "kernelspec": {
   "display_name": "Python 3",
   "language": "python",
   "name": "python3"
  },
  "language_info": {
   "codemirror_mode": {
    "name": "ipython",
    "version": 3
   },
   "file_extension": ".py",
   "mimetype": "text/x-python",
   "name": "python",
   "nbconvert_exporter": "python",
   "pygments_lexer": "ipython3",
   "version": "3.7.9"
  },
  "papermill": {
   "default_parameters": {},
   "duration": 9.138609,
   "end_time": "2023-01-03T10:46:15.300071",
   "environment_variables": {},
   "exception": null,
   "input_path": "__notebook__.ipynb",
   "output_path": "__notebook__.ipynb",
   "parameters": {},
   "start_time": "2023-01-03T10:46:06.161462",
   "version": "2.2.2"
  }
 },
 "nbformat": 4,
 "nbformat_minor": 4
}
